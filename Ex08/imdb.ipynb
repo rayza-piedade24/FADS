{
 "cells": [
  {
   "cell_type": "code",
   "execution_count": 1,
   "source": [
    "import pandas as pd"
   ],
   "outputs": [],
   "metadata": {}
  },
  {
   "cell_type": "code",
   "execution_count": 2,
   "source": [
    "import requests"
   ],
   "outputs": [],
   "metadata": {}
  },
  {
   "cell_type": "code",
   "execution_count": 3,
   "source": [
    "from bs4 import BeautifulSoup"
   ],
   "outputs": [],
   "metadata": {}
  },
  {
   "cell_type": "code",
   "execution_count": 4,
   "source": [
    "url = \"https://www.imdb.com/chart/toptv/\"\n",
    "\n",
    "\n",
    "headers = {\n",
    "    \"User-Agent\": \"Mozilla/5.0 (Windows NT 10.0; Win64; x64) AppleWebKit/537.36 (KHTML, like Gecko) Chrome/91.0.4472.124 Safari/537.36\"\n",
    "}"
   ],
   "outputs": [],
   "metadata": {}
  },
  {
   "cell_type": "code",
   "execution_count": 5,
   "source": [
    "response = requests.get(url, headers=headers)"
   ],
   "outputs": [],
   "metadata": {}
  },
  {
   "cell_type": "code",
   "execution_count": 6,
   "source": [
    "if response.status_code == 200:\n",
    "    # Get page content\n",
    "    page_source = response.text\n",
    "    # Parse with BeautifulSoup\n",
    "    soup = BeautifulSoup(page_source, \"html.parser\")\n",
    "    # Display or process the parsed page\n",
    "    print(soup.prettify()[:500])\n",
    "else:\n",
    "    print(f\"Failed to retrieve page. Status code: {response.status_code}\")\n",
    "\n",
    ""
   ],
   "outputs": [
    {
     "output_type": "stream",
     "name": "stdout",
     "text": [
      "<!DOCTYPE html>\n",
      "<html lang=\"en-US\" xmlns:fb=\"http://www.facebook.com/2008/fbml\" xmlns:og=\"http://opengraphprotocol.org/schema/\">\n",
      " <head>\n",
      "  <meta charset=\"utf-8\"/>\n",
      "  <meta content=\"width=device-width\" name=\"viewport\"/>\n",
      "  <script>\n",
      "   if(typeof uet === 'function'){ uet('bb', 'LoadTitle', {wb: 1}); }\n",
      "  </script>\n",
      "  <script>\n",
      "   window.addEventListener('load', (event) => {\n",
      "        if (typeof window.csa !== 'undefined' && typeof window.csa === 'function') {\n",
      "            var csaLatencyPlugin = window.csa(\n"
     ]
    }
   ],
   "metadata": {}
  },
  {
   "cell_type": "code",
   "execution_count": 7,
   "source": [
    "heading = soup.find(\"h1\").text\n",
    "print(heading)\n",
    "\n",
    ""
   ],
   "outputs": [
    {
     "output_type": "stream",
     "name": "stdout",
     "text": [
      "Top 250 TV Shows\n"
     ]
    }
   ],
   "metadata": {}
  },
  {
   "cell_type": "code",
   "execution_count": 8,
   "source": [
    "lst1 = []\n",
    "for i in soup.find_all(\"h3\",\"ipc-title__text\"):\n",
    "    lst1.append(i.text)\n",
    "\n",
    "print(lst1)\n",
    "\n",
    ""
   ],
   "outputs": [
    {
     "output_type": "stream",
     "name": "stdout",
     "text": [
      "['IMDb Charts', '1. Breaking Bad', '2. Planet Earth II', '3. Planet Earth', '4. Band of Brothers', '5. Chernobyl', '6. The Wire', '7. Avatar: The Last Airbender', '8. Blue Planet II', '9. The Sopranos', '10. Cosmos', '11. Cosmos', '12. Our Planet', '13. Game of Thrones', '14. Bluey', '15. The World at War', '16. Fullmetal Alchemist: Brotherhood', '17. Rick and Morty', '18. Life', '19. The Last Dance', '20. The Twilight Zone', '21. The Vietnam War', '22. Sherlock', '23. Attack on Titan', '24. Batman: The Animated Series', '25. Arcane', 'Recently viewed']\n"
     ]
    }
   ],
   "metadata": {}
  },
  {
   "cell_type": "code",
   "execution_count": 9,
   "source": [
    "lst1= lst1[1:151]"
   ],
   "outputs": [],
   "metadata": {}
  },
  {
   "cell_type": "code",
   "execution_count": 10,
   "source": [
    "lst1"
   ],
   "outputs": [
    {
     "output_type": "execute_result",
     "data": {
      "text/plain": [
       "['1. Breaking Bad',\n",
       " '2. Planet Earth II',\n",
       " '3. Planet Earth',\n",
       " '4. Band of Brothers',\n",
       " '5. Chernobyl',\n",
       " '6. The Wire',\n",
       " '7. Avatar: The Last Airbender',\n",
       " '8. Blue Planet II',\n",
       " '9. The Sopranos',\n",
       " '10. Cosmos',\n",
       " '11. Cosmos',\n",
       " '12. Our Planet',\n",
       " '13. Game of Thrones',\n",
       " '14. Bluey',\n",
       " '15. The World at War',\n",
       " '16. Fullmetal Alchemist: Brotherhood',\n",
       " '17. Rick and Morty',\n",
       " '18. Life',\n",
       " '19. The Last Dance',\n",
       " '20. The Twilight Zone',\n",
       " '21. The Vietnam War',\n",
       " '22. Sherlock',\n",
       " '23. Attack on Titan',\n",
       " '24. Batman: The Animated Series',\n",
       " '25. Arcane',\n",
       " 'Recently viewed']"
      ]
     },
     "metadata": {},
     "execution_count": 10
    }
   ],
   "metadata": {}
  },
  {
   "cell_type": "code",
   "execution_count": 11,
   "source": [
    "print(lst1)"
   ],
   "outputs": [
    {
     "output_type": "stream",
     "name": "stdout",
     "text": [
      "['1. Breaking Bad', '2. Planet Earth II', '3. Planet Earth', '4. Band of Brothers', '5. Chernobyl', '6. The Wire', '7. Avatar: The Last Airbender', '8. Blue Planet II', '9. The Sopranos', '10. Cosmos', '11. Cosmos', '12. Our Planet', '13. Game of Thrones', '14. Bluey', '15. The World at War', '16. Fullmetal Alchemist: Brotherhood', '17. Rick and Morty', '18. Life', '19. The Last Dance', '20. The Twilight Zone', '21. The Vietnam War', '22. Sherlock', '23. Attack on Titan', '24. Batman: The Animated Series', '25. Arcane', 'Recently viewed']\n"
     ]
    }
   ],
   "metadata": {}
  },
  {
   "cell_type": "code",
   "execution_count": 12,
   "source": [
    "name_list = []\n",
    "\n",
    "\n",
    "\n",
    "for i in lst1:\n",
    "    parts = i.split(\".\")\n",
    "    if len(parts) > 1:  \n",
    "        name_list.append(parts[1].strip())  \n",
    "    else:\n",
    "        print(f\"Skipping item '{i}' as it doesn't contain a period.\")\n",
    "\n",
    "print(name_list)"
   ],
   "outputs": [
    {
     "output_type": "stream",
     "name": "stdout",
     "text": [
      "Skipping item 'Recently viewed' as it doesn't contain a period.\n",
      "['Breaking Bad', 'Planet Earth II', 'Planet Earth', 'Band of Brothers', 'Chernobyl', 'The Wire', 'Avatar: The Last Airbender', 'Blue Planet II', 'The Sopranos', 'Cosmos', 'Cosmos', 'Our Planet', 'Game of Thrones', 'Bluey', 'The World at War', 'Fullmetal Alchemist: Brotherhood', 'Rick and Morty', 'Life', 'The Last Dance', 'The Twilight Zone', 'The Vietnam War', 'Sherlock', 'Attack on Titan', 'Batman: The Animated Series', 'Arcane']\n"
     ]
    }
   ],
   "metadata": {}
  },
  {
   "cell_type": "code",
   "execution_count": 13,
   "source": [
    "rating = []\n",
    "for i in soup.find_all(\"span\",\"ipc-rating-star--rating\"):\n",
    "    rating.append(i.text.strip())\n",
    "\n",
    "print(rating)\n",
    "\n",
    ""
   ],
   "outputs": [
    {
     "output_type": "stream",
     "name": "stdout",
     "text": [
      "['9.5', '9.5', '9.4', '9.4', '9.3', '9.3', '9.3', '9.3', '9.2', '9.2', '9.3', '9.2', '9.2', '9.3', '9.2', '9.1', '9.1', '9.1', '9.1', '9.0', '9.1', '9.1', '9.1', '9.0', '9.0']\n"
     ]
    }
   ],
   "metadata": {}
  },
  {
   "cell_type": "code",
   "execution_count": 14,
   "source": [
    "rating"
   ],
   "outputs": [
    {
     "output_type": "execute_result",
     "data": {
      "text/plain": [
       "['9.5',\n",
       " '9.5',\n",
       " '9.4',\n",
       " '9.4',\n",
       " '9.3',\n",
       " '9.3',\n",
       " '9.3',\n",
       " '9.3',\n",
       " '9.2',\n",
       " '9.2',\n",
       " '9.3',\n",
       " '9.2',\n",
       " '9.2',\n",
       " '9.3',\n",
       " '9.2',\n",
       " '9.1',\n",
       " '9.1',\n",
       " '9.1',\n",
       " '9.1',\n",
       " '9.0',\n",
       " '9.1',\n",
       " '9.1',\n",
       " '9.1',\n",
       " '9.0',\n",
       " '9.0']"
      ]
     },
     "metadata": {},
     "execution_count": 14
    }
   ],
   "metadata": {}
  },
  {
   "cell_type": "code",
   "execution_count": 15,
   "source": [
    "votes = []\n",
    "for i in soup.find_all(\"span\", \"ipc-rating-star--voteCount\"):\n",
    "    votes.append(i.text.strip().replace(\"(\", \"\").replace(\")\", \"\").strip())\n",
    "\n",
    "votes\n",
    "\n",
    ""
   ],
   "outputs": [
    {
     "output_type": "execute_result",
     "data": {
      "text/plain": [
       "['2.2M',\n",
       " '162K',\n",
       " '224K',\n",
       " '545K',\n",
       " '906K',\n",
       " '390K',\n",
       " '389K',\n",
       " '49K',\n",
       " '498K',\n",
       " '131K',\n",
       " '46K',\n",
       " '54K',\n",
       " '2.4M',\n",
       " '33K',\n",
       " '31K',\n",
       " '208K',\n",
       " '627K',\n",
       " '44K',\n",
       " '159K',\n",
       " '97K',\n",
       " '29K',\n",
       " '1M',\n",
       " '561K',\n",
       " '122K',\n",
       " '300K']"
      ]
     },
     "metadata": {},
     "execution_count": 15
    }
   ],
   "metadata": {}
  },
  {
   "cell_type": "code",
   "execution_count": 16,
   "source": [
    "tv_shows = pd.DataFrame({\"Name\":name_list,\"Ratings\":rating,\"Votes\":votes})\n",
    "tv_shows.head(10)\n",
    "\n",
    ""
   ],
   "outputs": [
    {
     "output_type": "execute_result",
     "data": {
      "text/html": [
       "<div>\n",
       "<style scoped>\n",
       "    .dataframe tbody tr th:only-of-type {\n",
       "        vertical-align: middle;\n",
       "    }\n",
       "\n",
       "    .dataframe tbody tr th {\n",
       "        vertical-align: top;\n",
       "    }\n",
       "\n",
       "    .dataframe thead th {\n",
       "        text-align: right;\n",
       "    }\n",
       "</style>\n",
       "<table border=\"1\" class=\"dataframe\">\n",
       "  <thead>\n",
       "    <tr style=\"text-align: right;\">\n",
       "      <th></th>\n",
       "      <th>Name</th>\n",
       "      <th>Ratings</th>\n",
       "      <th>Votes</th>\n",
       "    </tr>\n",
       "  </thead>\n",
       "  <tbody>\n",
       "    <tr>\n",
       "      <th>0</th>\n",
       "      <td>Breaking Bad</td>\n",
       "      <td>9.5</td>\n",
       "      <td>2.2M</td>\n",
       "    </tr>\n",
       "    <tr>\n",
       "      <th>1</th>\n",
       "      <td>Planet Earth II</td>\n",
       "      <td>9.5</td>\n",
       "      <td>162K</td>\n",
       "    </tr>\n",
       "    <tr>\n",
       "      <th>2</th>\n",
       "      <td>Planet Earth</td>\n",
       "      <td>9.4</td>\n",
       "      <td>224K</td>\n",
       "    </tr>\n",
       "    <tr>\n",
       "      <th>3</th>\n",
       "      <td>Band of Brothers</td>\n",
       "      <td>9.4</td>\n",
       "      <td>545K</td>\n",
       "    </tr>\n",
       "    <tr>\n",
       "      <th>4</th>\n",
       "      <td>Chernobyl</td>\n",
       "      <td>9.3</td>\n",
       "      <td>906K</td>\n",
       "    </tr>\n",
       "    <tr>\n",
       "      <th>5</th>\n",
       "      <td>The Wire</td>\n",
       "      <td>9.3</td>\n",
       "      <td>390K</td>\n",
       "    </tr>\n",
       "    <tr>\n",
       "      <th>6</th>\n",
       "      <td>Avatar: The Last Airbender</td>\n",
       "      <td>9.3</td>\n",
       "      <td>389K</td>\n",
       "    </tr>\n",
       "    <tr>\n",
       "      <th>7</th>\n",
       "      <td>Blue Planet II</td>\n",
       "      <td>9.3</td>\n",
       "      <td>49K</td>\n",
       "    </tr>\n",
       "    <tr>\n",
       "      <th>8</th>\n",
       "      <td>The Sopranos</td>\n",
       "      <td>9.2</td>\n",
       "      <td>498K</td>\n",
       "    </tr>\n",
       "    <tr>\n",
       "      <th>9</th>\n",
       "      <td>Cosmos</td>\n",
       "      <td>9.2</td>\n",
       "      <td>131K</td>\n",
       "    </tr>\n",
       "  </tbody>\n",
       "</table>\n",
       "</div>"
      ],
      "text/plain": [
       "                         Name Ratings Votes\n",
       "0                Breaking Bad     9.5  2.2M\n",
       "1             Planet Earth II     9.5  162K\n",
       "2                Planet Earth     9.4  224K\n",
       "3            Band of Brothers     9.4  545K\n",
       "4                   Chernobyl     9.3  906K\n",
       "5                    The Wire     9.3  390K\n",
       "6  Avatar: The Last Airbender     9.3  389K\n",
       "7              Blue Planet II     9.3   49K\n",
       "8                The Sopranos     9.2  498K\n",
       "9                      Cosmos     9.2  131K"
      ]
     },
     "metadata": {},
     "execution_count": 16
    }
   ],
   "metadata": {}
  },
  {
   "cell_type": "code",
   "execution_count": 17,
   "source": [
    "tv_shows.to_csv(\"tv_shows.csv\",index=False)"
   ],
   "outputs": [],
   "metadata": {}
  }
 ],
 "nbformat": 4,
 "nbformat_minor": 2,
 "metadata": {
  "language_info": {
   "codemirror_mode": {
    "name": "ipython",
    "version": 3
   },
   "file_extension": ".py",
   "mimetype": "text/x-python",
   "name": "python",
   "nbconvert_exporter": "python",
   "pygments_lexer": "ipython3",
   "version": 3
  },
  "orig_nbformat": 4
 }
}